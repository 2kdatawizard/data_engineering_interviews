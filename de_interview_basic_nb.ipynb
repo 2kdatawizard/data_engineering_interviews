{
  "nbformat": 4,
  "nbformat_minor": 0,
  "metadata": {
    "colab": {
      "provenance": [],
      "authorship_tag": "ABX9TyOdkWDsaa3HPmBz9TdMyqlY",
      "include_colab_link": true
    },
    "kernelspec": {
      "name": "python3",
      "display_name": "Python 3"
    },
    "language_info": {
      "name": "python"
    }
  },
  "cells": [
    {
      "cell_type": "markdown",
      "metadata": {
        "id": "view-in-github",
        "colab_type": "text"
      },
      "source": [
        "<a href=\"https://colab.research.google.com/github/2kdatawizard/data_engineering_interviews/blob/main/de_interview_basic_nb.ipynb\" target=\"_parent\"><img src=\"https://colab.research.google.com/assets/colab-badge.svg\" alt=\"Open In Colab\"/></a>"
      ]
    },
    {
      "cell_type": "markdown",
      "source": [
        "**Live Coding Exercise**\n",
        "\n",
        "This is the live coding challenge and you will be working alongside the interviewee, it would be great if you could explain your methodology throughout. Please stick to a soft maximum of 10 minutes for each individual exercise. 5 mins extra is permitted if needed."
      ],
      "metadata": {
        "id": "My5Pr0gA7od8"
      }
    },
    {
      "cell_type": "code",
      "source": [
        "!pip install pysqlite-binary"
      ],
      "metadata": {
        "id": "jqAm-Jdo7w8m"
      },
      "execution_count": null,
      "outputs": []
    },
    {
      "cell_type": "code",
      "source": [
        "import pysqlite3\n",
        "import pandas as pd\n",
        "\n",
        "# load dvla data\n",
        "database = pysqlite3.connect(\":memory:\")\n",
        "file_name = \"https://b39d430f-95b5-4c1f-9333-13e99afd263b.usrfiles.com/ugd/b39d43_62d594a003294a6d949cc5599f238d90.csv\"\n",
        "df = pd.read_csv(file_name)\n",
        "df.to_sql(\n",
        "    name=\"uk_dvla_data\",\n",
        "    index=False,\n",
        "    con=database,\n",
        "    if_exists=\"replace\"\n",
        ")\n",
        "\n",
        "# load demographics data\n",
        "file_name = \"https://b39d430f-95b5-4c1f-9333-13e99afd263b.usrfiles.com/ugd/b39d43_08faa9181a9b4a488dffdbf859821eaa.csv\"\n",
        "df = pd.read_csv(file_name)\n",
        "df.to_sql(\n",
        "    name=\"uk_demographics_data\",\n",
        "    index=False,\n",
        "    con=database,\n",
        "    if_exists=\"replace\"\n",
        ")"
      ],
      "metadata": {
        "id": "jLmEPSPM8PQ9"
      },
      "execution_count": null,
      "outputs": []
    },
    {
      "cell_type": "code",
      "source": [
        "# Lets load the whole data here for exploration\n",
        "query=\"\"\"\n",
        " SELECT * FROM uk_dvla_data\n",
        "-- SELECT * FROM uk_demographics_data\n",
        "\"\"\"\n",
        "# Run this command to return the output to a DataFrame\n",
        "pd.read_sql(\n",
        "  sql=query,\n",
        "  con=database\n",
        ")"
      ],
      "metadata": {
        "id": "JSJMGcNl8WEI"
      },
      "execution_count": null,
      "outputs": []
    },
    {
      "cell_type": "code",
      "source": [
        "# Q1\n",
        "# Write a SQL query to identify the age group with the third highest pass rate\n",
        "\n",
        "query=\"\"\"\n",
        "SELECT * FROM uk_dvla_data\n",
        "\"\"\"\n",
        "# Run this command to return the output to a DataFrame\n",
        "pd.read_sql(\n",
        "  sql=query,\n",
        "  con=database\n",
        ")"
      ],
      "metadata": {
        "id": "r_epdlOm8ZYz"
      },
      "execution_count": null,
      "outputs": []
    },
    {
      "cell_type": "code",
      "source": [
        "# Q2\n",
        "# Write a SQL query to analyze the impact of urban population on pass rates\n",
        "\n",
        "query=\"\"\"\n",
        "SELECT * FROM uk_dvla_data\n",
        "\"\"\"\n",
        "# Run this command to return the output to a DataFrame\n",
        "pd.read_sql(\n",
        "  sql=query,\n",
        "  con=database\n",
        ")"
      ],
      "metadata": {
        "id": "N7PdRdm08epp"
      },
      "execution_count": null,
      "outputs": []
    },
    {
      "cell_type": "code",
      "source": [
        "# Q3\n",
        "# Write a SQL query to find the year with the highest\n",
        "# pass rate for female candidates. Include both the number of passed tests and the\n",
        "# total tests taken in your result\n",
        "\n",
        "# Lets load the whole data here for exploration\n",
        "\n",
        "query=\"\"\"\n",
        "SELECT * FROM uk_dvla_data\n",
        "\"\"\"\n",
        "# Run this command to return the output to a DataFrame\n",
        "pd.read_sql(\n",
        "  sql=query,\n",
        "  con=database\n",
        ")"
      ],
      "metadata": {
        "id": "9FaVkTKg8iJ-"
      },
      "execution_count": null,
      "outputs": []
    },
    {
      "cell_type": "code",
      "source": [
        "# Q4\n",
        "# Calculate the running total of driving tests taken by each age group over\n",
        "# the years. Order the result by age and year\n",
        "\n",
        "query=\"\"\"\n",
        "SELECT * FROM uk_dvla_data\n",
        "\"\"\"\n",
        "# Run this command to return the output to a DataFrame\n",
        "pd.read_sql(\n",
        "  sql=query,\n",
        "  con=database\n",
        ")"
      ],
      "metadata": {
        "id": "kVVKr9uC8luu"
      },
      "execution_count": null,
      "outputs": []
    },
    {
      "cell_type": "code",
      "source": [
        "# Q5\n",
        "# Write a SQL query to calculate the year-over-year change in the pass rate\n",
        "# for male drivers who are under 24 years old\n",
        "\n",
        "query=\"\"\"\n",
        "SELECT * FROM uk_dvla_data\n",
        "\"\"\"\n",
        "# Run this command to return the output to a DataFrame\n",
        "pd.read_sql(\n",
        "  sql=query,\n",
        "  con=database\n",
        ")"
      ],
      "metadata": {
        "id": "GNon-ndi8pAO"
      },
      "execution_count": null,
      "outputs": []
    },
    {
      "cell_type": "code",
      "source": [
        "# Q6\n",
        "# Identify age groups where the pass rate improved year over year from\n",
        "# 2020 to 2022. Display the percentage increase for each qualifying age group\n",
        "\n",
        "query=\"\"\"\n",
        "SELECT * FROM uk_dvla_data\n",
        "\"\"\"\n",
        "# Run this command to return the output to a DataFrame\n",
        "pd.read_sql(\n",
        "  sql=query,\n",
        "  con=database\n",
        ")"
      ],
      "metadata": {
        "id": "HHEV9G8i8r-t"
      },
      "execution_count": null,
      "outputs": []
    },
    {
      "cell_type": "code",
      "source": [
        "# Q7\n",
        "# Classify each age group into 'Youth' (ages 17-25), 'Adult' (ages 26-50),\n",
        "# and 'Senior' (over 50) and calculate the average pass rate for each category\n",
        "\n",
        "query=\"\"\"\n",
        "SELECT * FROM uk_dvla_data\n",
        "\"\"\"\n",
        "# Run this command to return the output to a DataFrame\n",
        "pd.read_sql(\n",
        "  sql=query,\n",
        "  con=database\n",
        ")"
      ],
      "metadata": {
        "id": "MEfG2cJu8uri"
      },
      "execution_count": null,
      "outputs": []
    },
    {
      "cell_type": "markdown",
      "source": [
        "# Pair Sum\n",
        "\n",
        "Given an array of integers sorted in ascending order and a target value, return the indexes of any pair of numbers in the array that sum to the target. The order of the indexes in the result doesn't matter. If no pair is found, return an empty array.\n",
        "\n",
        "Example 1:\n",
        "\n",
        "```\n",
        "Input: nums = [-5, -2, 3, 4, 6], target = 7\n",
        "Output: [2, 3]\n",
        "Explanation: nums[2] + nums[3] = 3 + 4 = 7\n",
        "\n",
        "```\n",
        "\n",
        "Example 2:\n",
        "```\n",
        "Input: nums = [1, 1, 1], target = 2\n",
        "Output: [0, 1]\n",
        "```\n",
        "Explanation: other valid outputs could be [1, 0], [0, 2], [2, 0], [1, 2] or [2, 1].\n"
      ],
      "metadata": {
        "id": "4AIYYEQ-86uf"
      }
    },
    {
      "cell_type": "code",
      "source": [
        "from typing import List\n",
        "\n",
        "def pair_sum_sorted(nums: List[int], target: int) -> List[int]:\n",
        "    # Write your code here\n",
        "    pass"
      ],
      "metadata": {
        "id": "VeTCo4Px9Mvn"
      },
      "execution_count": null,
      "outputs": []
    },
    {
      "cell_type": "markdown",
      "source": [
        "#Triplet Sum\n",
        "\n",
        "Given an array of integers, return all triplets ```[a, b, c]``` such that ```a + b + c = 0``` . The solution must not contain duplicate triplets (e.g., [1, 2, 3] and [2, 3, 1] are considered duplicates). If no such triplets are found, return an empty array.\n",
        "\n",
        "Each triplet can be arranged in any order, and the output can be returned in any order.\n",
        "\n",
        "Example:\n",
        "```\n",
        "Input: nums = [0, -1, 2, -3, 1]\n",
        "Output: [[-3, 1, 2], [-1, 0, 1]]\n",
        "```\n",
        "\n"
      ],
      "metadata": {
        "id": "9JNqt1qC9W6h"
      }
    }
  ]
}