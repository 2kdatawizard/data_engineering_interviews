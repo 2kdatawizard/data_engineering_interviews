{
  "cells": [
    {
      "cell_type": "markdown",
      "metadata": {
        "id": "view-in-github",
        "colab_type": "text"
      },
      "source": [
        "<a href=\"https://colab.research.google.com/github/2kdatawizard/data_engineering_interviews/blob/main/de_interview_kit_1.ipynb\" target=\"_parent\"><img src=\"https://colab.research.google.com/assets/colab-badge.svg\" alt=\"Open In Colab\"/></a>"
      ]
    },
    {
      "cell_type": "markdown",
      "source": [
        "# Problem 1"
      ],
      "metadata": {
        "id": "nRuI7mDyhrRF"
      }
    },
    {
      "cell_type": "code",
      "execution_count": null,
      "metadata": {
        "cellView": "both",
        "colab": {
          "base_uri": "https://localhost:8080/"
        },
        "id": "WUtu4316QSHL",
        "outputId": "b19628b1-8dee-43fb-c5fb-304c775639d3"
      },
      "outputs": [
        {
          "output_type": "stream",
          "name": "stdout",
          "text": [
            "[4, 4, 4, 4, 4]\n"
          ]
        }
      ],
      "source": [
        "# Exercise 1\n",
        "def create_functions():\n",
        "    function_list = []\n",
        "    for i in range(5):\n",
        "        function_list.append(lambda: i)\n",
        "    return function_list\n",
        "\n",
        "functions = create_functions()\n",
        "results = [f() for f in functions]\n",
        "print(results)"
      ]
    },
    {
      "cell_type": "markdown",
      "source": [
        "# Questions\n",
        "1. What will be the output of this code?\n",
        "2. Why does it behave this way?\n",
        "3. How would you modify the code to make it\n",
        "4. produce the expected result of [0, 1, 2, 3, 4]?\n",
        "\"\"\""
      ],
      "metadata": {
        "id": "mzfiHLNVf1K-"
      }
    },
    {
      "cell_type": "markdown",
      "source": [
        "# Problem 2"
      ],
      "metadata": {
        "id": "r6QB5A9MhvAY"
      }
    },
    {
      "cell_type": "code",
      "source": [
        "# Exercise 2\n",
        "def process_large_dataset(data_source, batch_size=1000):\n",
        "    results = []\n",
        "\n",
        "    for i in range(0, len(data_source), batch_size):\n",
        "        batch = data_source[i:i+batch_size]\n",
        "        processed = [item * 2 for item in batch]\n",
        "        results.extend(processed)\n",
        "\n",
        "    return results\n",
        "\n",
        "# Usage\n",
        "large_data = list(range(10000000))  # 10 million items\n",
        "processed_data = process_large_dataset(large_data)"
      ],
      "metadata": {
        "id": "Ftxri3ucgG1k"
      },
      "execution_count": null,
      "outputs": []
    },
    {
      "cell_type": "markdown",
      "source": [
        "# Questions\n",
        "\n",
        "1. What potential issue might occur when running this code with very large datasets?\n",
        "2. Rewrite the function to be memory-efficient using generators and the yield keyword.\n",
        "3. If the data_source is actually a generator itself (not a list), would your solution\n",
        "still work? Why or why not?\n",
        "4. Explain how your solution improves memory usage compared to the original code."
      ],
      "metadata": {
        "id": "Cz-kXaozgNyC"
      }
    },
    {
      "cell_type": "markdown",
      "source": [],
      "metadata": {
        "id": "la0QEzvrg26k"
      }
    },
    {
      "cell_type": "code",
      "source": [
        "!pip install pyspark findspark"
      ],
      "metadata": {
        "id": "NMmyxPUUghGX",
        "outputId": "46f571da-cd68-4e89-a2a3-2c5dff317beb",
        "colab": {
          "base_uri": "https://localhost:8080/"
        }
      },
      "execution_count": null,
      "outputs": [
        {
          "output_type": "stream",
          "name": "stdout",
          "text": [
            "Requirement already satisfied: pyspark in /usr/local/lib/python3.11/dist-packages (3.5.1)\n",
            "Collecting findspark\n",
            "  Downloading findspark-2.0.1-py2.py3-none-any.whl.metadata (352 bytes)\n",
            "Requirement already satisfied: py4j==0.10.9.7 in /usr/local/lib/python3.11/dist-packages (from pyspark) (0.10.9.7)\n",
            "Downloading findspark-2.0.1-py2.py3-none-any.whl (4.4 kB)\n",
            "Installing collected packages: findspark\n",
            "Successfully installed findspark-2.0.1\n"
          ]
        }
      ]
    },
    {
      "cell_type": "markdown",
      "source": [
        "# Problem 3\n",
        "You are working with a large dataset containing user activity logs for an e-commerce website. The data is available as a PySpark DataFrame with the following schema:\n",
        "\n",
        "```\n",
        "root\n",
        " |-- user_id: string\n",
        " |-- session_id: string\n",
        " |-- timestamp: timestamp\n",
        " |-- page_id: string\n",
        " |-- action: string\n",
        " |-- product_id: string\n",
        " |-- category_id: string\n",
        " |-- price: double\n",
        " |-- quantity: integer\n",
        "\n",
        "```\n",
        "Each row represents a user action (view, add_to_cart, purchase, remove_from_cart) on a product page.\n",
        "\n",
        "## Write PySpark code to:\n",
        "\n",
        "1. Calculate the conversion rate (percentage of product views that resulted in purchases) for each product category, but only include users who had at least 3 sessions\n",
        "2. For each user, find the average time between viewing a product and adding it to cart\n",
        "3. Identify the top 5 products that are most frequently abandoned (added to cart but never purchased in the same session)\n",
        "4. Create a user engagement metric that combines total time spent, number of actions, and purchase value, then segment users into 'High', 'Medium', and 'Low' engagement groups\n",
        "5. Optimize your solution for performance, considering data skew, shuffle operations, and caching strategies\n",
        "\n",
        "## Expected Solution Components\n",
        "Your solution should include:\n",
        "\n",
        "1. Import statements and initialization of SparkSession\n",
        "2. Any necessary data preprocessing steps\n",
        "3. Implementation of all required analyses using PySpark DataFrame/SQL API\n",
        "4. Explanation of performance optimization choices\n",
        "5. Sample code to write results to the appropriate storage format\n",
        "\n",
        "## Example Data Pattern\n",
        "```\n",
        "user_id: \"u123\", session_id: \"s456\", timestamp: \"2023-09-15 14:32:21\",\n",
        "page_id: \"p789\", action: \"view\", product_id: \"prod123\", category_id: \"electronics\",\n",
        "price: 599.99, quantity: null\n",
        "```\n",
        "\n",
        "```\n",
        "user_id: \"u123\", session_id: \"s456\", timestamp: \"2023-09-15 14:35:42\",\n",
        "page_id: \"p789\", action: \"add_to_cart\", product_id: \"prod123\", category_id: \"electronics\",\n",
        "price: 599.99, quantity: 1\n",
        "```\n",
        "\n",
        "```\n",
        "user_id: \"u123\", session_id: \"s456\", timestamp: \"2023-09-15 14:45:12\",\n",
        "page_id: \"checkout\", action: \"purchase\", product_id: \"prod123\", category_id: \"electronics\",\n",
        "price: 599.99, quantity: 1\n",
        "```"
      ],
      "metadata": {
        "id": "Kd9fYUfLg4Y-"
      }
    },
    {
      "cell_type": "code",
      "source": [
        "import pandas as pd\n",
        "\n",
        "# --- Step 3: Specify the CORRECT (Raw) CSV URL ---\n",
        "file_name = \"https://raw.githubusercontent.com/2kdatawizard/data_engineering_interviews/refs/heads/main/data/ecommerce_data.csv\"\n",
        "\n",
        "try:\n",
        "    df = pd.read_csv(file_name, header=1)\n",
        "    print(\"Successfully loaded data. Here's the head of the DataFrame:\")\n",
        "    print(df.head())\n",
        "\n",
        "    # You can also print more info to verify\n",
        "    print(\"\\nDataFrame Info:\")\n",
        "    df.info()\n",
        "    print(f\"\\nDataFrame Shape: {df.shape}\")\n",
        "\n",
        "except Exception as e:\n",
        "    print(f\"An error occurred: {e}\")\n",
        "    print(\"Please double-check the raw URL and your internet connection.\")"
      ],
      "metadata": {
        "id": "lnmXC90rjQD9",
        "outputId": "27f7368e-fe44-45fa-99d6-fc34385824c5",
        "colab": {
          "base_uri": "https://localhost:8080/"
        }
      },
      "execution_count": 9,
      "outputs": [
        {
          "output_type": "stream",
          "name": "stdout",
          "text": [
            "Successfully loaded data. Here's the head of the DataFrame:\n",
            "   u1  s1  2023-09-15 10:00:00        p1         view  prodA     electronics  \\\n",
            "0  u1  s1  2023-09-15 10:01:00        p1  add_to_cart  prodA     electronics   \n",
            "1  u1  s1  2023-09-15 10:05:00  checkout     purchase  prodA     electronics   \n",
            "2  u1  s2  2023-09-16 11:00:00        p2         view  prodB           books   \n",
            "3  u1  s2  2023-09-16 11:02:00        p2  add_to_cart  prodB           books   \n",
            "4  u1  s3  2023-09-17 14:00:00        p3         view  prodC  home & kitchen   \n",
            "\n",
            "   299.99  Unnamed: 8  \n",
            "0  299.99         1.0  \n",
            "1  299.99         1.0  \n",
            "2   25.50         NaN  \n",
            "3   25.50         1.0  \n",
            "4   75.00         NaN  \n",
            "\n",
            "DataFrame Info:\n",
            "<class 'pandas.core.frame.DataFrame'>\n",
            "RangeIndex: 47 entries, 0 to 46\n",
            "Data columns (total 9 columns):\n",
            " #   Column               Non-Null Count  Dtype  \n",
            "---  ------               --------------  -----  \n",
            " 0   u1                   47 non-null     object \n",
            " 1   s1                   47 non-null     object \n",
            " 2   2023-09-15 10:00:00  47 non-null     object \n",
            " 3   p1                   47 non-null     object \n",
            " 4   view                 47 non-null     object \n",
            " 5   prodA                47 non-null     object \n",
            " 6   electronics          47 non-null     object \n",
            " 7   299.99               47 non-null     float64\n",
            " 8   Unnamed: 8           27 non-null     float64\n",
            "dtypes: float64(2), object(7)\n",
            "memory usage: 3.4+ KB\n",
            "\n",
            "DataFrame Shape: (47, 9)\n"
          ]
        }
      ]
    },
    {
      "cell_type": "markdown",
      "source": [
        "\n"
      ],
      "metadata": {
        "id": "-jnesT8XjPuu"
      }
    }
  ],
  "metadata": {
    "colab": {
      "name": "Overview of Colaboratory Features",
      "toc_visible": true,
      "provenance": [],
      "include_colab_link": true
    },
    "kernelspec": {
      "display_name": "Python 3",
      "name": "python3"
    }
  },
  "nbformat": 4,
  "nbformat_minor": 0
}